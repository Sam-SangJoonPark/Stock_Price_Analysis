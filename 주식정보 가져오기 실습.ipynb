{
 "cells": [
  {
   "cell_type": "markdown",
   "metadata": {},
   "source": [
    "### 주가정보 획득\n",
    "* cj제일제당을 해보자 (097950)  \n",
    "* 네이버 금융을 검색하면 주가정보를 볼 수 있다 > '시세' 부분에 들어감\n",
    " - https://finance.naver.com/item/sise_day.nhn?code=097950&page=1\n",
    "\n",
    " - *주의* -  위 url은 네이버 금융 > cj제일제당 > '시세' > 페이지소스보기 > '일별'이라는 단어로 Ctrl+F 검색하여 나오는 url 임. 'iframe'은 소스코드에 또 새로운 걸 이중으로 입힌 것으로, 복잡하게 되어있는데 위 url로 들어가야 편리하게 분석할 수 있음\n",
    " \n"
   ]
  },
  {
   "cell_type": "code",
   "execution_count": 15,
   "metadata": {},
   "outputs": [],
   "source": [
    "import sqlite3  # 크롤링한 데이터를 저장함. 주식은 시간이 지나면 바뀌는 데이터이므로 저장해놓고 업데이트 해야함.\n",
    "import requests # 내부 source 를 가져오는 라이브러리\n",
    "from bs4 import BeautifulSoup\n",
    "import numpy as np\n",
    "import pandas as pd"
   ]
  },
  {
   "cell_type": "code",
   "execution_count": 16,
   "metadata": {},
   "outputs": [],
   "source": [
    "# 함수 선언부 url 을 매개변수화 - url이라는 변수를 가져올건데 일단 공백으로.\n",
    "def stockGet(url=''):    \n",
    "    # url 가져와서 파싱\n",
    "    src=requests.get(url)\n",
    "    result=src.content.strip()    \n",
    "    html=BeautifulSoup(result,'html.parser')\n",
    "    tgts=html.select('table.type2 tr')\n",
    "    #len(tgt)\n",
    "    res=[]\n",
    "    #tgts 가 16개 씩 나옴 1 page\n",
    "    for tgt in tgts:\n",
    "        if(tgt.select('td .p10')):# 날짜 없는 줄은 제거       # 띄어쓰기 = 그 밑 다 가져오라는\n",
    "            sday=tgt.select('td .p10')[0].text.replace(\".\",\"\")\n",
    "\n",
    "            endp=tgt.select('td.num')[0].text.replace(\",\",\"\")\n",
    "            startp=tgt.select('td.num')[2].text.replace(\",\",\"\")\n",
    "            maxp=tgt.select('td.num')[3].text.replace(\",\",\"\")\n",
    "            minp=tgt.select('td.num')[4].text.replace(\",\",\"\")\n",
    "            vol=tgt.select('td.num')[5].text.replace(\",\",\"\")\n",
    "            res.append((sday,startp,maxp,minp,endp,vol))\n",
    "    # 10개 반환 (한 페이지당 10개씩)\n",
    "    return res\n"
   ]
  },
  {
   "cell_type": "code",
   "execution_count": 23,
   "metadata": {},
   "outputs": [],
   "source": [
    "def addData(data):\n",
    "    with sqlite3.connect(dbname) as conn:\n",
    "        cur=conn.cursor()\n",
    "        #  \\는 줄이 길어져서 나눈 것. 그리고 cj_jaeil은 테이블명\n",
    "        sql = 'insert into cj_jaeil \\\n",
    "        (SIDX,S_CODE,SCOMP,SDAY,OPENP,HIGHP,LOWP,CLOSEP,VOL) \\\n",
    "        values (?,?,?,?,?,?,?,?,?)'\n",
    "                       # ?,?는 알아서 채우라는 것\n",
    "        ##### data=[1001,60000,' 신세계','20200830',30,60,70,50,250]\n",
    "        cur.execute(sql,data)   #이 sql문대로 실행함\n",
    "        conn.commit()\n",
    "        cur.close()\n"
   ]
  },
  {
   "cell_type": "code",
   "execution_count": 24,
   "metadata": {},
   "outputs": [],
   "source": [
    "dbname='cj_jaeil.db'     # sqlite에 만든 db이름!\n",
    "def selData(whr=' where SIDX=0'):\n",
    "    with sqlite3.connect(dbname) as conn:\n",
    "        cur=conn.cursor()\n",
    "        sql='select SIDX from cj_jaeil '+whr     # from 뒤는 테이블 명\n",
    "        cur.execute(sql)\n",
    "        rows=cur.fetchall()\n",
    "        cur.close()\n",
    "    return rows"
   ]
  },
  {
   "cell_type": "markdown",
   "metadata": {},
   "source": [
    " - 이 코드가 같은 것임. ( with sqlite3.connect(dbname) as conn : ~ )\n",
    "dbname = 'stockdata.db'\n",
    "conn= sqlite3.connect(dbname)\n",
    "cur = conn.cursor()\n",
    "sql='select * from StockDay'   #sql문\n",
    "result=cur.execute(sql)    # sql문대로 가져오기\n",
    "rows=result.fetchall()   #fetch 가져오는거\n",
    "rows\n",
    "\n",
    "#result 말고 cur.execute(sql) 하고 rows=cur.fetchall()해도 ok"
   ]
  },
  {
   "cell_type": "code",
   "execution_count": 25,
   "metadata": {},
   "outputs": [
    {
     "name": "stdout",
     "output_type": "stream",
     "text": [
      "##############################\n",
      "https://finance.naver.com/item/sise_day.nhn?code=097950&page=1\n",
      "##############################\n",
      "https://finance.naver.com/item/sise_day.nhn?code=097950&page=2\n",
      "##############################\n",
      "https://finance.naver.com/item/sise_day.nhn?code=097950&page=3\n",
      "##############################\n",
      "https://finance.naver.com/item/sise_day.nhn?code=097950&page=4\n",
      "##############################\n",
      "https://finance.naver.com/item/sise_day.nhn?code=097950&page=5\n",
      "##############################\n",
      "https://finance.naver.com/item/sise_day.nhn?code=097950&page=6\n",
      "##############################\n",
      "https://finance.naver.com/item/sise_day.nhn?code=097950&page=7\n",
      "##############################\n",
      "https://finance.naver.com/item/sise_day.nhn?code=097950&page=8\n",
      "##############################\n",
      "https://finance.naver.com/item/sise_day.nhn?code=097950&page=9\n"
     ]
    }
   ],
   "source": [
    "urlsrc='https://finance.naver.com/item/sise_day.nhn?code={0}&page={1}'\n",
    "sCode='097950'   # 해당 페이지에 코드가 있음\n",
    "sComp='CJ제일제당'    # 회사 이름\n",
    "for i in range(1,10):       #10페이지까지 긁어옴\n",
    "    print(\"#\"*30)\n",
    "    url=urlsrc.format(sCode,i)\n",
    "    print(url)\n",
    "    # 데이터 10개 가져오기\n",
    "    rs=stockGet(url)\n",
    "    \n",
    "    for r in rs:\n",
    "        #데이터별 고유코드만들기  --> 중복방지용\n",
    "        sidx=r[0]+sCode\n",
    "        ##### data=[1001,60000,' 신세계','20200830',30,60,70,50,250]\n",
    "        data=[sidx,sCode,sComp,r[0],r[1],r[2],r[3],r[4],r[5]]\n",
    "        #데이터 입력하기! 중복데이터 확인\n",
    "        preData=selData(' where SIDX='+sidx)\n",
    "        if(preData):                               #만약 중복되면 안 넣고 중복 안 되면 넣음.\n",
    "            print(\"중복데이터 입니다.\",preData)\n",
    "        else:\n",
    "            #print(r)\n",
    "            addData(data)"
   ]
  },
  {
   "cell_type": "code",
   "execution_count": 6,
   "metadata": {},
   "outputs": [
    {
     "data": {
      "text/plain": [
       "[]"
      ]
     },
     "execution_count": 6,
     "metadata": {},
     "output_type": "execute_result"
    }
   ],
   "source": [
    "selData()"
   ]
  },
  {
   "cell_type": "code",
   "execution_count": 55,
   "metadata": {},
   "outputs": [],
   "source": [
    "# 아.. 신세계 완료 ...."
   ]
  },
  {
   "cell_type": "code",
   "execution_count": null,
   "metadata": {},
   "outputs": [],
   "source": []
  }
 ],
 "metadata": {
  "kernelspec": {
   "display_name": "Python 3",
   "language": "python",
   "name": "python3"
  },
  "language_info": {
   "codemirror_mode": {
    "name": "ipython",
    "version": 3
   },
   "file_extension": ".py",
   "mimetype": "text/x-python",
   "name": "python",
   "nbconvert_exporter": "python",
   "pygments_lexer": "ipython3",
   "version": "3.7.7"
  }
 },
 "nbformat": 4,
 "nbformat_minor": 4
}
