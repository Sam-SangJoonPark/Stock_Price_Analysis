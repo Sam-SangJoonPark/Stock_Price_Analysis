{
 "cells": [
  {
   "cell_type": "code",
   "execution_count": 165,
   "metadata": {},
   "outputs": [],
   "source": [
    "import sqlite3 \n",
    "import numpy as np\n",
    "import pandas as pd\n",
    "import matplotlib as mpl\n",
    "import matplotlib.pyplot as plt"
   ]
  },
  {
   "cell_type": "code",
   "execution_count": 166,
   "metadata": {},
   "outputs": [],
   "source": [
    "dbname='ramen_stock.db'  # dbname \n",
    "def selData(whr=' where SIDX=0'):\n",
    "    with sqlite3.connect(dbname) as conn:\n",
    "        cur=conn.cursor()\n",
    "        sql='select SDAY,SCOMP,OPENP,HIGHP,LOWP,CLOSEP,VOL from nongshim '+whr\n",
    "        cur.execute(sql)\n",
    "        rows=cur.fetchall()\n",
    "        cur.close()\n",
    "    return rows\n"
   ]
  },
  {
   "cell_type": "code",
   "execution_count": 167,
   "metadata": {},
   "outputs": [
    {
     "data": {
      "text/html": [
       "<div>\n",
       "<style scoped>\n",
       "    .dataframe tbody tr th:only-of-type {\n",
       "        vertical-align: middle;\n",
       "    }\n",
       "\n",
       "    .dataframe tbody tr th {\n",
       "        vertical-align: top;\n",
       "    }\n",
       "\n",
       "    .dataframe thead th {\n",
       "        text-align: right;\n",
       "    }\n",
       "</style>\n",
       "<table border=\"1\" class=\"dataframe\">\n",
       "  <thead>\n",
       "    <tr style=\"text-align: right;\">\n",
       "      <th></th>\n",
       "      <th>SDAY</th>\n",
       "      <th>SCOMP</th>\n",
       "      <th>OPENP</th>\n",
       "      <th>HIGHP</th>\n",
       "      <th>LOWP</th>\n",
       "      <th>CLOSEP</th>\n",
       "      <th>VOL</th>\n",
       "    </tr>\n",
       "  </thead>\n",
       "  <tbody>\n",
       "    <tr>\n",
       "      <th>0</th>\n",
       "      <td>20140102</td>\n",
       "      <td>삼양식품</td>\n",
       "      <td>24650</td>\n",
       "      <td>24650</td>\n",
       "      <td>24050</td>\n",
       "      <td>24400</td>\n",
       "      <td>28215</td>\n",
       "    </tr>\n",
       "    <tr>\n",
       "      <th>1</th>\n",
       "      <td>20140102</td>\n",
       "      <td>농심</td>\n",
       "      <td>249000</td>\n",
       "      <td>256000</td>\n",
       "      <td>249000</td>\n",
       "      <td>251000</td>\n",
       "      <td>23071</td>\n",
       "    </tr>\n",
       "    <tr>\n",
       "      <th>2</th>\n",
       "      <td>20140102</td>\n",
       "      <td>오뚜기</td>\n",
       "      <td>396500</td>\n",
       "      <td>418500</td>\n",
       "      <td>386000</td>\n",
       "      <td>407500</td>\n",
       "      <td>15168</td>\n",
       "    </tr>\n",
       "    <tr>\n",
       "      <th>3</th>\n",
       "      <td>20140103</td>\n",
       "      <td>삼양식품</td>\n",
       "      <td>24400</td>\n",
       "      <td>25350</td>\n",
       "      <td>24350</td>\n",
       "      <td>25200</td>\n",
       "      <td>104812</td>\n",
       "    </tr>\n",
       "    <tr>\n",
       "      <th>4</th>\n",
       "      <td>20140103</td>\n",
       "      <td>농심</td>\n",
       "      <td>251500</td>\n",
       "      <td>260500</td>\n",
       "      <td>251500</td>\n",
       "      <td>259000</td>\n",
       "      <td>47507</td>\n",
       "    </tr>\n",
       "  </tbody>\n",
       "</table>\n",
       "</div>"
      ],
      "text/plain": [
       "       SDAY SCOMP   OPENP   HIGHP    LOWP  CLOSEP     VOL\n",
       "0  20140102  삼양식품   24650   24650   24050   24400   28215\n",
       "1  20140102    농심  249000  256000  249000  251000   23071\n",
       "2  20140102   오뚜기  396500  418500  386000  407500   15168\n",
       "3  20140103  삼양식품   24400   25350   24350   25200  104812\n",
       "4  20140103    농심  251500  260500  251500  259000   47507"
      ]
     },
     "execution_count": 167,
     "metadata": {},
     "output_type": "execute_result"
    }
   ],
   "source": [
    "whr='where SDAY>20140101 order by SDAY  asc '     #sql문으로 원하는값 뽑기\n",
    "res=selData(whr)\n",
    "cols=['SDAY','SCOMP','OPENP','HIGHP','LOWP','CLOSEP','VOL']\n",
    "df=pd.DataFrame(data=res,columns=cols)\n",
    "df.head()"
   ]
  },
  {
   "cell_type": "code",
   "execution_count": 168,
   "metadata": {},
   "outputs": [
    {
     "data": {
      "text/plain": [
       "(4983, 7)"
      ]
     },
     "execution_count": 168,
     "metadata": {},
     "output_type": "execute_result"
    }
   ],
   "source": [
    "df.shape"
   ]
  },
  {
   "cell_type": "code",
   "execution_count": 169,
   "metadata": {},
   "outputs": [],
   "source": [
    "nongshim_df = df[df['SCOMP'] =='농심']\n",
    "samyang_df = df[df['SCOMP'] == '삼양식품']\n",
    "ottugi_df = df[df['SCOMP'] == '오뚜기']\n"
   ]
  },
  {
   "cell_type": "code",
   "execution_count": 170,
   "metadata": {},
   "outputs": [
    {
     "data": {
      "text/plain": [
       "(1661, 7)"
      ]
     },
     "execution_count": 170,
     "metadata": {},
     "output_type": "execute_result"
    }
   ],
   "source": [
    "samyang_df.shape"
   ]
  },
  {
   "cell_type": "markdown",
   "metadata": {},
   "source": [
    "# nongshim_df , samyang_df 등은 원래 df에서 가져온건데, 원래 df는 SDAY와 INDEX가 엮여있는 구조라서 reset.index 하면 NaN값이 나옴. 그래서 다시 csv로 이들을 보낸담에 다시 불러오는 걸 하면 코드가 완성됨"
   ]
  },
  {
   "cell_type": "code",
   "execution_count": 220,
   "metadata": {},
   "outputs": [],
   "source": [
    "nongshim_df.to_csv('nongshim_df.csv')"
   ]
  },
  {
   "cell_type": "code",
   "execution_count": 228,
   "metadata": {},
   "outputs": [],
   "source": [
    "samyang_df.to_csv('samyang_df.csv')\n",
    "ottugi_df.to_csv('ottugi_df.csv')"
   ]
  },
  {
   "cell_type": "code",
   "execution_count": 229,
   "metadata": {},
   "outputs": [],
   "source": [
    "nongshim_df = pd.read_csv('nongshim_df.csv')\n",
    "samyang_df = pd.read_csv('samyang_df.csv')\n",
    "ottugi_df = pd.read_csv('ottugi_df.csv')"
   ]
  },
  {
   "cell_type": "code",
   "execution_count": 231,
   "metadata": {},
   "outputs": [
    {
     "data": {
      "text/html": [
       "<div>\n",
       "<style scoped>\n",
       "    .dataframe tbody tr th:only-of-type {\n",
       "        vertical-align: middle;\n",
       "    }\n",
       "\n",
       "    .dataframe tbody tr th {\n",
       "        vertical-align: top;\n",
       "    }\n",
       "\n",
       "    .dataframe thead th {\n",
       "        text-align: right;\n",
       "    }\n",
       "</style>\n",
       "<table border=\"1\" class=\"dataframe\">\n",
       "  <thead>\n",
       "    <tr style=\"text-align: right;\">\n",
       "      <th></th>\n",
       "      <th>Unnamed: 0</th>\n",
       "      <th>SDAY</th>\n",
       "      <th>SCOMP</th>\n",
       "      <th>OPENP</th>\n",
       "      <th>HIGHP</th>\n",
       "      <th>LOWP</th>\n",
       "      <th>CLOSEP</th>\n",
       "      <th>VOL</th>\n",
       "    </tr>\n",
       "  </thead>\n",
       "  <tbody>\n",
       "    <tr>\n",
       "      <th>0</th>\n",
       "      <td>2</td>\n",
       "      <td>20140102</td>\n",
       "      <td>오뚜기</td>\n",
       "      <td>396500</td>\n",
       "      <td>418500</td>\n",
       "      <td>386000</td>\n",
       "      <td>407500</td>\n",
       "      <td>15168</td>\n",
       "    </tr>\n",
       "    <tr>\n",
       "      <th>1</th>\n",
       "      <td>5</td>\n",
       "      <td>20140103</td>\n",
       "      <td>오뚜기</td>\n",
       "      <td>406500</td>\n",
       "      <td>406500</td>\n",
       "      <td>386000</td>\n",
       "      <td>386500</td>\n",
       "      <td>7560</td>\n",
       "    </tr>\n",
       "    <tr>\n",
       "      <th>2</th>\n",
       "      <td>8</td>\n",
       "      <td>20140106</td>\n",
       "      <td>오뚜기</td>\n",
       "      <td>386500</td>\n",
       "      <td>390500</td>\n",
       "      <td>381000</td>\n",
       "      <td>382500</td>\n",
       "      <td>4547</td>\n",
       "    </tr>\n",
       "    <tr>\n",
       "      <th>3</th>\n",
       "      <td>11</td>\n",
       "      <td>20140107</td>\n",
       "      <td>오뚜기</td>\n",
       "      <td>382000</td>\n",
       "      <td>393500</td>\n",
       "      <td>382000</td>\n",
       "      <td>384500</td>\n",
       "      <td>3741</td>\n",
       "    </tr>\n",
       "    <tr>\n",
       "      <th>4</th>\n",
       "      <td>14</td>\n",
       "      <td>20140108</td>\n",
       "      <td>오뚜기</td>\n",
       "      <td>383500</td>\n",
       "      <td>399000</td>\n",
       "      <td>383500</td>\n",
       "      <td>386500</td>\n",
       "      <td>4097</td>\n",
       "    </tr>\n",
       "    <tr>\n",
       "      <th>...</th>\n",
       "      <td>...</td>\n",
       "      <td>...</td>\n",
       "      <td>...</td>\n",
       "      <td>...</td>\n",
       "      <td>...</td>\n",
       "      <td>...</td>\n",
       "      <td>...</td>\n",
       "      <td>...</td>\n",
       "    </tr>\n",
       "    <tr>\n",
       "      <th>1656</th>\n",
       "      <td>4970</td>\n",
       "      <td>20200925</td>\n",
       "      <td>오뚜기</td>\n",
       "      <td>569000</td>\n",
       "      <td>569000</td>\n",
       "      <td>561000</td>\n",
       "      <td>562000</td>\n",
       "      <td>2688</td>\n",
       "    </tr>\n",
       "    <tr>\n",
       "      <th>1657</th>\n",
       "      <td>4973</td>\n",
       "      <td>20200928</td>\n",
       "      <td>오뚜기</td>\n",
       "      <td>567000</td>\n",
       "      <td>573000</td>\n",
       "      <td>563000</td>\n",
       "      <td>570000</td>\n",
       "      <td>1876</td>\n",
       "    </tr>\n",
       "    <tr>\n",
       "      <th>1658</th>\n",
       "      <td>4976</td>\n",
       "      <td>20200929</td>\n",
       "      <td>오뚜기</td>\n",
       "      <td>576000</td>\n",
       "      <td>576000</td>\n",
       "      <td>567000</td>\n",
       "      <td>568000</td>\n",
       "      <td>3079</td>\n",
       "    </tr>\n",
       "    <tr>\n",
       "      <th>1659</th>\n",
       "      <td>4979</td>\n",
       "      <td>20201005</td>\n",
       "      <td>오뚜기</td>\n",
       "      <td>575000</td>\n",
       "      <td>580000</td>\n",
       "      <td>568000</td>\n",
       "      <td>575000</td>\n",
       "      <td>3285</td>\n",
       "    </tr>\n",
       "    <tr>\n",
       "      <th>1660</th>\n",
       "      <td>4982</td>\n",
       "      <td>20201006</td>\n",
       "      <td>오뚜기</td>\n",
       "      <td>574000</td>\n",
       "      <td>585000</td>\n",
       "      <td>574000</td>\n",
       "      <td>582000</td>\n",
       "      <td>1542</td>\n",
       "    </tr>\n",
       "  </tbody>\n",
       "</table>\n",
       "<p>1661 rows × 8 columns</p>\n",
       "</div>"
      ],
      "text/plain": [
       "      Unnamed: 0      SDAY SCOMP   OPENP   HIGHP    LOWP  CLOSEP    VOL\n",
       "0              2  20140102   오뚜기  396500  418500  386000  407500  15168\n",
       "1              5  20140103   오뚜기  406500  406500  386000  386500   7560\n",
       "2              8  20140106   오뚜기  386500  390500  381000  382500   4547\n",
       "3             11  20140107   오뚜기  382000  393500  382000  384500   3741\n",
       "4             14  20140108   오뚜기  383500  399000  383500  386500   4097\n",
       "...          ...       ...   ...     ...     ...     ...     ...    ...\n",
       "1656        4970  20200925   오뚜기  569000  569000  561000  562000   2688\n",
       "1657        4973  20200928   오뚜기  567000  573000  563000  570000   1876\n",
       "1658        4976  20200929   오뚜기  576000  576000  567000  568000   3079\n",
       "1659        4979  20201005   오뚜기  575000  580000  568000  575000   3285\n",
       "1660        4982  20201006   오뚜기  574000  585000  574000  582000   1542\n",
       "\n",
       "[1661 rows x 8 columns]"
      ]
     },
     "execution_count": 231,
     "metadata": {},
     "output_type": "execute_result"
    }
   ],
   "source": [
    "nongshim_df.reindex(np.arange(0,len(nongshim_df)))\n",
    "samyang_df.reindex(np.arange(0,len(samyang_df)))\n",
    "ottugi_df.reindex(np.arange(0,len(ottugi_df)))"
   ]
  },
  {
   "cell_type": "code",
   "execution_count": 245,
   "metadata": {},
   "outputs": [],
   "source": [
    "def stock_graph(nongshim_df):\n",
    "    sels=['OPENP']\n",
    "    nongshim_df[sels].plot()\n",
    "    days=nongshim_df['SDAY'].values\n",
    "    xtic=np.arange(0,len(days),step=150)   \n",
    "    xdays=[days[i] for i in xtic]     \n",
    "    plt.xticks(xtic,xdays,rotation=90) \n",
    "    plt.axvline(x=1200, color='r')\n",
    "    plt.xlabel('date')\n",
    "    plt.ylabel('stock_price')\n",
    "    plt.show()"
   ]
  },
  {
   "cell_type": "code",
   "execution_count": 293,
   "metadata": {},
   "outputs": [
    {
     "data": {
      "image/png": "[encoded data removed]",
      "text/plain": [
       "<Figure size 432x288 with 1 Axes>"
      ]
     },
     "metadata": {
      "needs_background": "light"
     },
     "output_type": "display_data"
    }
   ],
   "source": [
    "sels=['OPENP']\n",
    "nongshim_df[sels].plot()\n",
    "days=nongshim_df['SDAY'].values\n",
    "xtic=np.arange(0,len(days),step=150)   \n",
    "xdays=[days[i] for i in xtic]     \n",
    "plt.xticks(xtic,xdays,rotation=90) \n",
    "plt.axvline(x=1530, color='green', label = '신라면건면')\n",
    "plt.axvline(x=1550, color='black', label = '짜파구리')\n",
    "plt.axvline(x=1566, color='red', label = '앵그리너구리')\n",
    "plt.xlabel('date')\n",
    "plt.ylabel('stock_price')\n",
    "plt.show()"
   ]
  },
  {
   "cell_type": "code",
   "execution_count": 294,
   "metadata": {},
   "outputs": [
    {
     "data": {
      "image/png": "[encoded data removed]",
      "text/plain": [
       "<Figure size 432x288 with 1 Axes>"
      ]
     },
     "metadata": {
      "needs_background": "light"
     },
     "output_type": "display_data"
    }
   ],
   "source": [
    "sels=['OPENP']\n",
    "samyang_df[sels].plot()\n",
    "days=samyang_df['SDAY'].values\n",
    "xtic=np.arange(0,len(days),step=150)   \n",
    "xdays=[days[i] for i in xtic]     \n",
    "plt.xticks(xtic,xdays,rotation=90) \n",
    "plt.axvline(x=850, color='black', label = '짜파구리')\n",
    "plt.axvline(x=1380, color='red', label = '마라탕면/마라볶음면')\n",
    "plt.axvline(x=1600, color='yellow', label = '크림까르보불닭')\n",
    "plt.xlabel('date')\n",
    "plt.ylabel('stock_price')\n",
    "plt.show()"
   ]
  },
  {
   "cell_type": "code",
   "execution_count": 291,
   "metadata": {},
   "outputs": [
    {
     "data": {
      "image/png": "[encoded data removed]",
      "text/plain": [
       "<Figure size 432x288 with 1 Axes>"
      ]
     },
     "metadata": {
      "needs_background": "light"
     },
     "output_type": "display_data"
    }
   ],
   "source": [
    "sels=['OPENP']\n",
    "ottugi_df[sels].plot()\n",
    "days=ottugi_df['SDAY'].values\n",
    "xtic=np.arange(0,len(days),step=150)   \n",
    "xdays=[days[i] for i in xtic]     \n",
    "plt.xticks(xtic,xdays,rotation=90) \n",
    "plt.axvline(x=643, color='red', label = '부대찌개면')\n",
    "plt.axvline(x=957, color='gray', label = '굴진짬뽕')\n",
    "plt.axvline(x=1193, color='green', label = '채황라면')\n",
    "plt.xlabel('date')\n",
    "plt.ylabel('stock_price')\n",
    "plt.show()"
   ]
  }
 ],
 "metadata": {
  "kernelspec": {
   "display_name": "Python 3",
   "language": "python",
   "name": "python3"
  },
  "language_info": {
   "codemirror_mode": {
    "name": "ipython",
    "version": 3
   },
   "file_extension": ".py",
   "mimetype": "text/x-python",
   "name": "python",
   "nbconvert_exporter": "python",
   "pygments_lexer": "ipython3",
   "version": "3.7.9"
  }
 },
 "nbformat": 4,
 "nbformat_minor": 4
}
