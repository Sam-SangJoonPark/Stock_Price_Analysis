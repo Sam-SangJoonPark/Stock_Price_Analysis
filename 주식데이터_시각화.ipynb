{
 "cells": [
  {
   "cell_type": "code",
   "execution_count": 25,
   "metadata": {},
   "outputs": [],
   "source": [
    "import sqlite3 \n",
    "import numpy as np\n",
    "import pandas as pd\n",
    "import matplotlib as mpl\n",
    "import matplotlib.pyplot as plt"
   ]
  },
  {
   "cell_type": "code",
   "execution_count": 26,
   "metadata": {},
   "outputs": [],
   "source": [
    "dbname='cj_jaeil.db'  # dbname \n",
    "def selData(whr=' where SIDX=0'):\n",
    "    with sqlite3.connect(dbname) as conn:\n",
    "        cur=conn.cursor()\n",
    "        sql='select SDAY,OPENP,HIGHP,LOWP,CLOSEP,VOL from cj_jaeil '+whr\n",
    "        cur.execute(sql)\n",
    "        rows=cur.fetchall()\n",
    "        cur.close()\n",
    "    return rows"
   ]
  },
  {
   "cell_type": "code",
   "execution_count": 27,
   "metadata": {},
   "outputs": [
    {
     "data": {
      "text/html": [
       "<div>\n",
       "<style scoped>\n",
       "    .dataframe tbody tr th:only-of-type {\n",
       "        vertical-align: middle;\n",
       "    }\n",
       "\n",
       "    .dataframe tbody tr th {\n",
       "        vertical-align: top;\n",
       "    }\n",
       "\n",
       "    .dataframe thead th {\n",
       "        text-align: right;\n",
       "    }\n",
       "</style>\n",
       "<table border=\"1\" class=\"dataframe\">\n",
       "  <thead>\n",
       "    <tr style=\"text-align: right;\">\n",
       "      <th></th>\n",
       "      <th>SDAY</th>\n",
       "      <th>OPENP</th>\n",
       "      <th>HIGHP</th>\n",
       "      <th>LOWP</th>\n",
       "      <th>CLOSEP</th>\n",
       "      <th>VOL</th>\n",
       "    </tr>\n",
       "  </thead>\n",
       "  <tbody>\n",
       "    <tr>\n",
       "      <th>0</th>\n",
       "      <td>20200512</td>\n",
       "      <td>274500</td>\n",
       "      <td>288000</td>\n",
       "      <td>274000</td>\n",
       "      <td>287500</td>\n",
       "      <td>115839</td>\n",
       "    </tr>\n",
       "    <tr>\n",
       "      <th>1</th>\n",
       "      <td>20200513</td>\n",
       "      <td>287500</td>\n",
       "      <td>293500</td>\n",
       "      <td>284000</td>\n",
       "      <td>292000</td>\n",
       "      <td>76455</td>\n",
       "    </tr>\n",
       "    <tr>\n",
       "      <th>2</th>\n",
       "      <td>20200514</td>\n",
       "      <td>291000</td>\n",
       "      <td>301000</td>\n",
       "      <td>286000</td>\n",
       "      <td>301000</td>\n",
       "      <td>144145</td>\n",
       "    </tr>\n",
       "    <tr>\n",
       "      <th>3</th>\n",
       "      <td>20200515</td>\n",
       "      <td>312000</td>\n",
       "      <td>322500</td>\n",
       "      <td>308000</td>\n",
       "      <td>308500</td>\n",
       "      <td>263558</td>\n",
       "    </tr>\n",
       "    <tr>\n",
       "      <th>4</th>\n",
       "      <td>20200518</td>\n",
       "      <td>315500</td>\n",
       "      <td>322000</td>\n",
       "      <td>305000</td>\n",
       "      <td>308000</td>\n",
       "      <td>128313</td>\n",
       "    </tr>\n",
       "  </tbody>\n",
       "</table>\n",
       "</div>"
      ],
      "text/plain": [
       "       SDAY   OPENP   HIGHP    LOWP  CLOSEP     VOL\n",
       "0  20200512  274500  288000  274000  287500  115839\n",
       "1  20200513  287500  293500  284000  292000   76455\n",
       "2  20200514  291000  301000  286000  301000  144145\n",
       "3  20200515  312000  322500  308000  308500  263558\n",
       "4  20200518  315500  322000  305000  308000  128313"
      ]
     },
     "execution_count": 27,
     "metadata": {},
     "output_type": "execute_result"
    }
   ],
   "source": [
    "whr='where SDAY>20200101 order by SDAY  asc limit 250'     #sql문으로 원하는값 뽑기\n",
    "res=selData(whr)\n",
    "cols=['SDAY','OPENP','HIGHP','LOWP','CLOSEP','VOL']\n",
    "df=pd.DataFrame(data=res,columns=cols)\n",
    "df.head()"
   ]
  },
  {
   "cell_type": "code",
   "execution_count": 28,
   "metadata": {},
   "outputs": [
    {
     "data": {
      "image/png": "[encoded data removed]",
      "text/plain": [
       "<Figure size 432x288 with 1 Axes>"
      ]
     },
     "metadata": {
      "needs_background": "light"
     },
     "output_type": "display_data"
    }
   ],
   "source": [
    "sels=['CLOSEP','OPENP']\n",
    "df[sels].plot()\n",
    "plt.xlim(30,90)           # x축. df의 len는 90이다 \n",
    "plt.ylim(250000,500000)   # y축. 확인해보고 적당한 숫자를 넣기\n",
    "plt.show()"
   ]
  },
  {
   "cell_type": "code",
   "execution_count": null,
   "metadata": {},
   "outputs": [],
   "source": []
  }
 ],
 "metadata": {
  "kernelspec": {
   "display_name": "Python 3",
   "language": "python",
   "name": "python3"
  },
  "language_info": {
   "codemirror_mode": {
    "name": "ipython",
    "version": 3
   },
   "file_extension": ".py",
   "mimetype": "text/x-python",
   "name": "python",
   "nbconvert_exporter": "python",
   "pygments_lexer": "ipython3",
   "version": "3.7.7"
  }
 },
 "nbformat": 4,
 "nbformat_minor": 4
}
